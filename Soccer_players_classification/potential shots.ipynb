{
 "cells": [
  {
   "cell_type": "code",
   "id": "initial_id",
   "metadata": {
    "collapsed": true,
    "ExecuteTime": {
     "end_time": "2025-02-09T13:38:16.813990Z",
     "start_time": "2025-02-09T13:38:16.811818Z"
    }
   },
   "source": [
    "import pandas as pd\n",
    "import numpy as np\n",
    "import seaborn as sns\n",
    "import matplotlib as plt"
   ],
   "outputs": [],
   "execution_count": 1
  },
  {
   "metadata": {
    "ExecuteTime": {
     "end_time": "2025-02-09T13:38:19.505263Z",
     "start_time": "2025-02-09T13:38:19.480288Z"
    }
   },
   "cell_type": "code",
   "source": [
    "Shots = pd.read_csv('epl_potential_shots.csv')\n",
    "Shots.head()"
   ],
   "id": "185d3f0fb4bb7d2f",
   "outputs": [
    {
     "data": {
      "text/plain": [
       "   match_id  team_id  shot_number  player1_id     shot_type\n",
       "0     49337    10260            1     24154.0  blocked_shot\n",
       "1     49337    10260            2     24157.0        header\n",
       "2     49337    10260            3     30829.0          shot\n",
       "3     49337    10260            4     30373.0          shot\n",
       "4     49337    10260            5     30373.0      distance"
      ],
      "text/html": [
       "<div>\n",
       "<style scoped>\n",
       "    .dataframe tbody tr th:only-of-type {\n",
       "        vertical-align: middle;\n",
       "    }\n",
       "\n",
       "    .dataframe tbody tr th {\n",
       "        vertical-align: top;\n",
       "    }\n",
       "\n",
       "    .dataframe thead th {\n",
       "        text-align: right;\n",
       "    }\n",
       "</style>\n",
       "<table border=\"1\" class=\"dataframe\">\n",
       "  <thead>\n",
       "    <tr style=\"text-align: right;\">\n",
       "      <th></th>\n",
       "      <th>match_id</th>\n",
       "      <th>team_id</th>\n",
       "      <th>shot_number</th>\n",
       "      <th>player1_id</th>\n",
       "      <th>shot_type</th>\n",
       "    </tr>\n",
       "  </thead>\n",
       "  <tbody>\n",
       "    <tr>\n",
       "      <th>0</th>\n",
       "      <td>49337</td>\n",
       "      <td>10260</td>\n",
       "      <td>1</td>\n",
       "      <td>24154.0</td>\n",
       "      <td>blocked_shot</td>\n",
       "    </tr>\n",
       "    <tr>\n",
       "      <th>1</th>\n",
       "      <td>49337</td>\n",
       "      <td>10260</td>\n",
       "      <td>2</td>\n",
       "      <td>24157.0</td>\n",
       "      <td>header</td>\n",
       "    </tr>\n",
       "    <tr>\n",
       "      <th>2</th>\n",
       "      <td>49337</td>\n",
       "      <td>10260</td>\n",
       "      <td>3</td>\n",
       "      <td>30829.0</td>\n",
       "      <td>shot</td>\n",
       "    </tr>\n",
       "    <tr>\n",
       "      <th>3</th>\n",
       "      <td>49337</td>\n",
       "      <td>10260</td>\n",
       "      <td>4</td>\n",
       "      <td>30373.0</td>\n",
       "      <td>shot</td>\n",
       "    </tr>\n",
       "    <tr>\n",
       "      <th>4</th>\n",
       "      <td>49337</td>\n",
       "      <td>10260</td>\n",
       "      <td>5</td>\n",
       "      <td>30373.0</td>\n",
       "      <td>distance</td>\n",
       "    </tr>\n",
       "  </tbody>\n",
       "</table>\n",
       "</div>"
      ]
     },
     "execution_count": 2,
     "metadata": {},
     "output_type": "execute_result"
    }
   ],
   "execution_count": 2
  },
  {
   "metadata": {
    "ExecuteTime": {
     "end_time": "2025-02-09T13:38:21.232066Z",
     "start_time": "2025-02-09T13:38:21.220798Z"
    }
   },
   "cell_type": "code",
   "source": [
    "for col in Shots.columns:\n",
    "    if Shots[col].isna().sum() > 0:\n",
    "        print(F\"{col} has {Shots[col].isna().sum()} missing values\")"
   ],
   "id": "863d6dc42f52fe87",
   "outputs": [
    {
     "name": "stdout",
     "output_type": "stream",
     "text": [
      "player1_id has 267 missing values\n",
      "shot_type has 10 missing values\n"
     ]
    }
   ],
   "execution_count": 3
  },
  {
   "metadata": {
    "ExecuteTime": {
     "end_time": "2025-02-09T13:38:22.799738Z",
     "start_time": "2025-02-09T13:38:22.792298Z"
    }
   },
   "cell_type": "code",
   "source": "Shots = Shots.dropna()",
   "id": "d6e2618d6d22ec83",
   "outputs": [],
   "execution_count": 4
  },
  {
   "metadata": {
    "ExecuteTime": {
     "end_time": "2025-02-09T13:38:23.906908Z",
     "start_time": "2025-02-09T13:38:23.891559Z"
    }
   },
   "cell_type": "code",
   "source": "Shots",
   "id": "8b62350994181f33",
   "outputs": [
    {
     "data": {
      "text/plain": [
       "       match_id  team_id  shot_number  player1_id        shot_type\n",
       "0         49337    10260            1     24154.0     blocked_shot\n",
       "1         49337    10260            2     24157.0           header\n",
       "2         49337    10260            3     30829.0             shot\n",
       "3         49337    10260            4     30373.0             shot\n",
       "4         49337    10260            5     30373.0         distance\n",
       "...         ...      ...          ...         ...              ...\n",
       "31771     59737     8456           25     37412.0     blocked_shot\n",
       "31772     59737     8456           28     36615.0  big chance shot\n",
       "31773     59737     8456           31     37412.0     blocked_shot\n",
       "31774     59737     8654           34     37169.0             shot\n",
       "31775     59737     8456           37     92666.0         distance\n",
       "\n",
       "[31502 rows x 5 columns]"
      ],
      "text/html": [
       "<div>\n",
       "<style scoped>\n",
       "    .dataframe tbody tr th:only-of-type {\n",
       "        vertical-align: middle;\n",
       "    }\n",
       "\n",
       "    .dataframe tbody tr th {\n",
       "        vertical-align: top;\n",
       "    }\n",
       "\n",
       "    .dataframe thead th {\n",
       "        text-align: right;\n",
       "    }\n",
       "</style>\n",
       "<table border=\"1\" class=\"dataframe\">\n",
       "  <thead>\n",
       "    <tr style=\"text-align: right;\">\n",
       "      <th></th>\n",
       "      <th>match_id</th>\n",
       "      <th>team_id</th>\n",
       "      <th>shot_number</th>\n",
       "      <th>player1_id</th>\n",
       "      <th>shot_type</th>\n",
       "    </tr>\n",
       "  </thead>\n",
       "  <tbody>\n",
       "    <tr>\n",
       "      <th>0</th>\n",
       "      <td>49337</td>\n",
       "      <td>10260</td>\n",
       "      <td>1</td>\n",
       "      <td>24154.0</td>\n",
       "      <td>blocked_shot</td>\n",
       "    </tr>\n",
       "    <tr>\n",
       "      <th>1</th>\n",
       "      <td>49337</td>\n",
       "      <td>10260</td>\n",
       "      <td>2</td>\n",
       "      <td>24157.0</td>\n",
       "      <td>header</td>\n",
       "    </tr>\n",
       "    <tr>\n",
       "      <th>2</th>\n",
       "      <td>49337</td>\n",
       "      <td>10260</td>\n",
       "      <td>3</td>\n",
       "      <td>30829.0</td>\n",
       "      <td>shot</td>\n",
       "    </tr>\n",
       "    <tr>\n",
       "      <th>3</th>\n",
       "      <td>49337</td>\n",
       "      <td>10260</td>\n",
       "      <td>4</td>\n",
       "      <td>30373.0</td>\n",
       "      <td>shot</td>\n",
       "    </tr>\n",
       "    <tr>\n",
       "      <th>4</th>\n",
       "      <td>49337</td>\n",
       "      <td>10260</td>\n",
       "      <td>5</td>\n",
       "      <td>30373.0</td>\n",
       "      <td>distance</td>\n",
       "    </tr>\n",
       "    <tr>\n",
       "      <th>...</th>\n",
       "      <td>...</td>\n",
       "      <td>...</td>\n",
       "      <td>...</td>\n",
       "      <td>...</td>\n",
       "      <td>...</td>\n",
       "    </tr>\n",
       "    <tr>\n",
       "      <th>31771</th>\n",
       "      <td>59737</td>\n",
       "      <td>8456</td>\n",
       "      <td>25</td>\n",
       "      <td>37412.0</td>\n",
       "      <td>blocked_shot</td>\n",
       "    </tr>\n",
       "    <tr>\n",
       "      <th>31772</th>\n",
       "      <td>59737</td>\n",
       "      <td>8456</td>\n",
       "      <td>28</td>\n",
       "      <td>36615.0</td>\n",
       "      <td>big chance shot</td>\n",
       "    </tr>\n",
       "    <tr>\n",
       "      <th>31773</th>\n",
       "      <td>59737</td>\n",
       "      <td>8456</td>\n",
       "      <td>31</td>\n",
       "      <td>37412.0</td>\n",
       "      <td>blocked_shot</td>\n",
       "    </tr>\n",
       "    <tr>\n",
       "      <th>31774</th>\n",
       "      <td>59737</td>\n",
       "      <td>8654</td>\n",
       "      <td>34</td>\n",
       "      <td>37169.0</td>\n",
       "      <td>shot</td>\n",
       "    </tr>\n",
       "    <tr>\n",
       "      <th>31775</th>\n",
       "      <td>59737</td>\n",
       "      <td>8456</td>\n",
       "      <td>37</td>\n",
       "      <td>92666.0</td>\n",
       "      <td>distance</td>\n",
       "    </tr>\n",
       "  </tbody>\n",
       "</table>\n",
       "<p>31502 rows × 5 columns</p>\n",
       "</div>"
      ]
     },
     "execution_count": 5,
     "metadata": {},
     "output_type": "execute_result"
    }
   ],
   "execution_count": 5
  },
  {
   "metadata": {
    "ExecuteTime": {
     "end_time": "2025-02-09T13:38:25.576107Z",
     "start_time": "2025-02-09T13:38:25.563724Z"
    }
   },
   "cell_type": "code",
   "source": "Shots.isna().any()",
   "id": "f044a9ad34066243",
   "outputs": [
    {
     "data": {
      "text/plain": [
       "match_id       False\n",
       "team_id        False\n",
       "shot_number    False\n",
       "player1_id     False\n",
       "shot_type      False\n",
       "dtype: bool"
      ]
     },
     "execution_count": 6,
     "metadata": {},
     "output_type": "execute_result"
    }
   ],
   "execution_count": 6
  },
  {
   "metadata": {
    "ExecuteTime": {
     "end_time": "2025-02-09T13:38:27.445078Z",
     "start_time": "2025-02-09T13:38:27.435509Z"
    }
   },
   "cell_type": "code",
   "source": "ids = pd.read_csv(\"matches2014_2015_id.csv\")",
   "id": "b49996a62470e7df",
   "outputs": [],
   "execution_count": 7
  },
  {
   "metadata": {
    "ExecuteTime": {
     "end_time": "2025-02-09T13:38:28.522296Z",
     "start_time": "2025-02-09T13:38:28.513041Z"
    }
   },
   "cell_type": "code",
   "source": "Shots = Shots[Shots[\"match_id\"].isin(ids[\"match_id\"])]",
   "id": "727a26839960da87",
   "outputs": [],
   "execution_count": 8
  },
  {
   "metadata": {
    "ExecuteTime": {
     "end_time": "2025-02-09T13:38:29.992398Z",
     "start_time": "2025-02-09T13:38:29.988505Z"
    }
   },
   "cell_type": "code",
   "source": "Shots[\"player1_id\"] = Shots[\"player1_id\"].astype(int)\n",
   "id": "a4099dca14edbd53",
   "outputs": [
    {
     "name": "stderr",
     "output_type": "stream",
     "text": [
      "C:\\Users\\Filip Letmanov\\AppData\\Local\\Temp\\ipykernel_13392\\2837584957.py:1: SettingWithCopyWarning: \n",
      "A value is trying to be set on a copy of a slice from a DataFrame.\n",
      "Try using .loc[row_indexer,col_indexer] = value instead\n",
      "\n",
      "See the caveats in the documentation: https://pandas.pydata.org/pandas-docs/stable/user_guide/indexing.html#returning-a-view-versus-a-copy\n",
      "  Shots[\"player1_id\"] = Shots[\"player1_id\"].astype(int)\n"
     ]
    }
   ],
   "execution_count": 9
  },
  {
   "metadata": {
    "ExecuteTime": {
     "end_time": "2025-02-09T13:38:31.993334Z",
     "start_time": "2025-02-09T13:38:31.982532Z"
    }
   },
   "cell_type": "code",
   "source": "Shots",
   "id": "2ad9e0f028f383d0",
   "outputs": [
    {
     "data": {
      "text/plain": [
       "       match_id  team_id  shot_number  player1_id        shot_type\n",
       "27307     41101     9825            1       75489     blocked_shot\n",
       "27308     41101     9825            4      192921         distance\n",
       "27309     41101     9825            7      143793             shot\n",
       "27310     41101     9826           10       25537     blocked_shot\n",
       "27311     41101     9825           13       75489     blocked_shot\n",
       "...         ...      ...          ...         ...              ...\n",
       "31771     59737     8456           25       37412     blocked_shot\n",
       "31772     59737     8456           28       36615  big chance shot\n",
       "31773     59737     8456           31       37412     blocked_shot\n",
       "31774     59737     8654           34       37169             shot\n",
       "31775     59737     8456           37       92666         distance\n",
       "\n",
       "[4468 rows x 5 columns]"
      ],
      "text/html": [
       "<div>\n",
       "<style scoped>\n",
       "    .dataframe tbody tr th:only-of-type {\n",
       "        vertical-align: middle;\n",
       "    }\n",
       "\n",
       "    .dataframe tbody tr th {\n",
       "        vertical-align: top;\n",
       "    }\n",
       "\n",
       "    .dataframe thead th {\n",
       "        text-align: right;\n",
       "    }\n",
       "</style>\n",
       "<table border=\"1\" class=\"dataframe\">\n",
       "  <thead>\n",
       "    <tr style=\"text-align: right;\">\n",
       "      <th></th>\n",
       "      <th>match_id</th>\n",
       "      <th>team_id</th>\n",
       "      <th>shot_number</th>\n",
       "      <th>player1_id</th>\n",
       "      <th>shot_type</th>\n",
       "    </tr>\n",
       "  </thead>\n",
       "  <tbody>\n",
       "    <tr>\n",
       "      <th>27307</th>\n",
       "      <td>41101</td>\n",
       "      <td>9825</td>\n",
       "      <td>1</td>\n",
       "      <td>75489</td>\n",
       "      <td>blocked_shot</td>\n",
       "    </tr>\n",
       "    <tr>\n",
       "      <th>27308</th>\n",
       "      <td>41101</td>\n",
       "      <td>9825</td>\n",
       "      <td>4</td>\n",
       "      <td>192921</td>\n",
       "      <td>distance</td>\n",
       "    </tr>\n",
       "    <tr>\n",
       "      <th>27309</th>\n",
       "      <td>41101</td>\n",
       "      <td>9825</td>\n",
       "      <td>7</td>\n",
       "      <td>143793</td>\n",
       "      <td>shot</td>\n",
       "    </tr>\n",
       "    <tr>\n",
       "      <th>27310</th>\n",
       "      <td>41101</td>\n",
       "      <td>9826</td>\n",
       "      <td>10</td>\n",
       "      <td>25537</td>\n",
       "      <td>blocked_shot</td>\n",
       "    </tr>\n",
       "    <tr>\n",
       "      <th>27311</th>\n",
       "      <td>41101</td>\n",
       "      <td>9825</td>\n",
       "      <td>13</td>\n",
       "      <td>75489</td>\n",
       "      <td>blocked_shot</td>\n",
       "    </tr>\n",
       "    <tr>\n",
       "      <th>...</th>\n",
       "      <td>...</td>\n",
       "      <td>...</td>\n",
       "      <td>...</td>\n",
       "      <td>...</td>\n",
       "      <td>...</td>\n",
       "    </tr>\n",
       "    <tr>\n",
       "      <th>31771</th>\n",
       "      <td>59737</td>\n",
       "      <td>8456</td>\n",
       "      <td>25</td>\n",
       "      <td>37412</td>\n",
       "      <td>blocked_shot</td>\n",
       "    </tr>\n",
       "    <tr>\n",
       "      <th>31772</th>\n",
       "      <td>59737</td>\n",
       "      <td>8456</td>\n",
       "      <td>28</td>\n",
       "      <td>36615</td>\n",
       "      <td>big chance shot</td>\n",
       "    </tr>\n",
       "    <tr>\n",
       "      <th>31773</th>\n",
       "      <td>59737</td>\n",
       "      <td>8456</td>\n",
       "      <td>31</td>\n",
       "      <td>37412</td>\n",
       "      <td>blocked_shot</td>\n",
       "    </tr>\n",
       "    <tr>\n",
       "      <th>31774</th>\n",
       "      <td>59737</td>\n",
       "      <td>8654</td>\n",
       "      <td>34</td>\n",
       "      <td>37169</td>\n",
       "      <td>shot</td>\n",
       "    </tr>\n",
       "    <tr>\n",
       "      <th>31775</th>\n",
       "      <td>59737</td>\n",
       "      <td>8456</td>\n",
       "      <td>37</td>\n",
       "      <td>92666</td>\n",
       "      <td>distance</td>\n",
       "    </tr>\n",
       "  </tbody>\n",
       "</table>\n",
       "<p>4468 rows × 5 columns</p>\n",
       "</div>"
      ]
     },
     "execution_count": 10,
     "metadata": {},
     "output_type": "execute_result"
    }
   ],
   "execution_count": 10
  },
  {
   "metadata": {
    "ExecuteTime": {
     "end_time": "2025-02-09T13:38:34.738763Z",
     "start_time": "2025-02-09T13:38:34.728502Z"
    }
   },
   "cell_type": "code",
   "source": "Shots.rename(columns={\"player1_id\": \"Striker_id\"})",
   "id": "7fc3be806cbf9715",
   "outputs": [
    {
     "data": {
      "text/plain": [
       "       match_id  team_id  shot_number  Striker_id        shot_type\n",
       "27307     41101     9825            1       75489     blocked_shot\n",
       "27308     41101     9825            4      192921         distance\n",
       "27309     41101     9825            7      143793             shot\n",
       "27310     41101     9826           10       25537     blocked_shot\n",
       "27311     41101     9825           13       75489     blocked_shot\n",
       "...         ...      ...          ...         ...              ...\n",
       "31771     59737     8456           25       37412     blocked_shot\n",
       "31772     59737     8456           28       36615  big chance shot\n",
       "31773     59737     8456           31       37412     blocked_shot\n",
       "31774     59737     8654           34       37169             shot\n",
       "31775     59737     8456           37       92666         distance\n",
       "\n",
       "[4468 rows x 5 columns]"
      ],
      "text/html": [
       "<div>\n",
       "<style scoped>\n",
       "    .dataframe tbody tr th:only-of-type {\n",
       "        vertical-align: middle;\n",
       "    }\n",
       "\n",
       "    .dataframe tbody tr th {\n",
       "        vertical-align: top;\n",
       "    }\n",
       "\n",
       "    .dataframe thead th {\n",
       "        text-align: right;\n",
       "    }\n",
       "</style>\n",
       "<table border=\"1\" class=\"dataframe\">\n",
       "  <thead>\n",
       "    <tr style=\"text-align: right;\">\n",
       "      <th></th>\n",
       "      <th>match_id</th>\n",
       "      <th>team_id</th>\n",
       "      <th>shot_number</th>\n",
       "      <th>Striker_id</th>\n",
       "      <th>shot_type</th>\n",
       "    </tr>\n",
       "  </thead>\n",
       "  <tbody>\n",
       "    <tr>\n",
       "      <th>27307</th>\n",
       "      <td>41101</td>\n",
       "      <td>9825</td>\n",
       "      <td>1</td>\n",
       "      <td>75489</td>\n",
       "      <td>blocked_shot</td>\n",
       "    </tr>\n",
       "    <tr>\n",
       "      <th>27308</th>\n",
       "      <td>41101</td>\n",
       "      <td>9825</td>\n",
       "      <td>4</td>\n",
       "      <td>192921</td>\n",
       "      <td>distance</td>\n",
       "    </tr>\n",
       "    <tr>\n",
       "      <th>27309</th>\n",
       "      <td>41101</td>\n",
       "      <td>9825</td>\n",
       "      <td>7</td>\n",
       "      <td>143793</td>\n",
       "      <td>shot</td>\n",
       "    </tr>\n",
       "    <tr>\n",
       "      <th>27310</th>\n",
       "      <td>41101</td>\n",
       "      <td>9826</td>\n",
       "      <td>10</td>\n",
       "      <td>25537</td>\n",
       "      <td>blocked_shot</td>\n",
       "    </tr>\n",
       "    <tr>\n",
       "      <th>27311</th>\n",
       "      <td>41101</td>\n",
       "      <td>9825</td>\n",
       "      <td>13</td>\n",
       "      <td>75489</td>\n",
       "      <td>blocked_shot</td>\n",
       "    </tr>\n",
       "    <tr>\n",
       "      <th>...</th>\n",
       "      <td>...</td>\n",
       "      <td>...</td>\n",
       "      <td>...</td>\n",
       "      <td>...</td>\n",
       "      <td>...</td>\n",
       "    </tr>\n",
       "    <tr>\n",
       "      <th>31771</th>\n",
       "      <td>59737</td>\n",
       "      <td>8456</td>\n",
       "      <td>25</td>\n",
       "      <td>37412</td>\n",
       "      <td>blocked_shot</td>\n",
       "    </tr>\n",
       "    <tr>\n",
       "      <th>31772</th>\n",
       "      <td>59737</td>\n",
       "      <td>8456</td>\n",
       "      <td>28</td>\n",
       "      <td>36615</td>\n",
       "      <td>big chance shot</td>\n",
       "    </tr>\n",
       "    <tr>\n",
       "      <th>31773</th>\n",
       "      <td>59737</td>\n",
       "      <td>8456</td>\n",
       "      <td>31</td>\n",
       "      <td>37412</td>\n",
       "      <td>blocked_shot</td>\n",
       "    </tr>\n",
       "    <tr>\n",
       "      <th>31774</th>\n",
       "      <td>59737</td>\n",
       "      <td>8654</td>\n",
       "      <td>34</td>\n",
       "      <td>37169</td>\n",
       "      <td>shot</td>\n",
       "    </tr>\n",
       "    <tr>\n",
       "      <th>31775</th>\n",
       "      <td>59737</td>\n",
       "      <td>8456</td>\n",
       "      <td>37</td>\n",
       "      <td>92666</td>\n",
       "      <td>distance</td>\n",
       "    </tr>\n",
       "  </tbody>\n",
       "</table>\n",
       "<p>4468 rows × 5 columns</p>\n",
       "</div>"
      ]
     },
     "execution_count": 11,
     "metadata": {},
     "output_type": "execute_result"
    }
   ],
   "execution_count": 11
  },
  {
   "metadata": {
    "ExecuteTime": {
     "end_time": "2025-02-09T13:38:36.622482Z",
     "start_time": "2025-02-09T13:38:36.612312Z"
    }
   },
   "cell_type": "code",
   "source": "Shots['shot_type'].unique()",
   "id": "1973d1c10ae14136",
   "outputs": [
    {
     "data": {
      "text/plain": [
       "array(['blocked_shot', 'distance', 'shot', 'deflected', 'big chance shot',\n",
       "       'volley', 'direct_freekick', 'header', 'big chance blocked',\n",
       "       'blocked_header', 'big chance header', 'bicycle_kick',\n",
       "       'big chance volley', 'lob', 'indirect freekick',\n",
       "       'big chance bicycle'], dtype=object)"
      ]
     },
     "execution_count": 12,
     "metadata": {},
     "output_type": "execute_result"
    }
   ],
   "execution_count": 12
  },
  {
   "metadata": {
    "ExecuteTime": {
     "end_time": "2025-02-09T13:38:38.643985Z",
     "start_time": "2025-02-09T13:38:38.628624Z"
    }
   },
   "cell_type": "code",
   "source": "Shots.to_csv('cleaned_shots.csv', index=False)\n",
   "id": "7e842af0f171acf5",
   "outputs": [],
   "execution_count": 13
  },
  {
   "metadata": {
    "ExecuteTime": {
     "end_time": "2025-02-09T13:39:03.188845Z",
     "start_time": "2025-02-09T13:39:03.179426Z"
    }
   },
   "cell_type": "code",
   "source": "cleaned = pd.read_csv(\"cleaned_shots.csv\")",
   "id": "df3063f3957ffc01",
   "outputs": [],
   "execution_count": 15
  },
  {
   "metadata": {
    "ExecuteTime": {
     "end_time": "2025-02-09T13:39:04.231218Z",
     "start_time": "2025-02-09T13:39:04.223557Z"
    }
   },
   "cell_type": "code",
   "source": "cleaned[\"shot_type\"].unique()",
   "id": "6ead4b236a82c65e",
   "outputs": [
    {
     "data": {
      "text/plain": [
       "array(['blocked_shot', 'distance', 'shot', 'deflected', 'big chance shot',\n",
       "       'volley', 'direct_freekick', 'header', 'big chance blocked',\n",
       "       'blocked_header', 'big chance header', 'bicycle_kick',\n",
       "       'big chance volley', 'lob', 'indirect freekick',\n",
       "       'big chance bicycle'], dtype=object)"
      ]
     },
     "execution_count": 16,
     "metadata": {},
     "output_type": "execute_result"
    }
   ],
   "execution_count": 16
  }
 ],
 "metadata": {
  "kernelspec": {
   "display_name": "Python 3",
   "language": "python",
   "name": "python3"
  },
  "language_info": {
   "codemirror_mode": {
    "name": "ipython",
    "version": 2
   },
   "file_extension": ".py",
   "mimetype": "text/x-python",
   "name": "python",
   "nbconvert_exporter": "python",
   "pygments_lexer": "ipython2",
   "version": "2.7.6"
  }
 },
 "nbformat": 4,
 "nbformat_minor": 5
}
