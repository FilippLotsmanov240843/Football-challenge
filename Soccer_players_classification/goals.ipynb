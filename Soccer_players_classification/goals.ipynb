{
 "cells": [
  {
   "cell_type": "code",
   "id": "initial_id",
   "metadata": {
    "collapsed": true,
    "ExecuteTime": {
     "end_time": "2025-02-09T13:34:38.089507Z",
     "start_time": "2025-02-09T13:34:38.085643Z"
    }
   },
   "source": [
    "import pandas as pd\n",
    "import numpy as np\n",
    "import seaborn as sns\n",
    "import matplotlib as plt"
   ],
   "outputs": [],
   "execution_count": 1
  },
  {
   "metadata": {
    "ExecuteTime": {
     "end_time": "2025-02-09T13:34:57.867511Z",
     "start_time": "2025-02-09T13:34:57.829696Z"
    }
   },
   "cell_type": "code",
   "source": [
    "goals = pd.read_csv('epl_goals.csv')\n",
    "goals.head()"
   ],
   "id": "260e731cd659856f",
   "outputs": [
    {
     "data": {
      "text/plain": [
       "   match_id  team_id  goal_number  player1_id  player2_id goal_type\n",
       "0     49337    10261            1     37799.0     38807.0    header\n",
       "1     49337    10260            2     24148.0     24154.0      shot\n",
       "2     38136     9825            1     26181.0     39297.0      shot\n",
       "3     43276     8650            1     30853.0     30889.0  distance\n",
       "4     40671     8654            1     23139.0     36394.0      shot"
      ],
      "text/html": [
       "<div>\n",
       "<style scoped>\n",
       "    .dataframe tbody tr th:only-of-type {\n",
       "        vertical-align: middle;\n",
       "    }\n",
       "\n",
       "    .dataframe tbody tr th {\n",
       "        vertical-align: top;\n",
       "    }\n",
       "\n",
       "    .dataframe thead th {\n",
       "        text-align: right;\n",
       "    }\n",
       "</style>\n",
       "<table border=\"1\" class=\"dataframe\">\n",
       "  <thead>\n",
       "    <tr style=\"text-align: right;\">\n",
       "      <th></th>\n",
       "      <th>match_id</th>\n",
       "      <th>team_id</th>\n",
       "      <th>goal_number</th>\n",
       "      <th>player1_id</th>\n",
       "      <th>player2_id</th>\n",
       "      <th>goal_type</th>\n",
       "    </tr>\n",
       "  </thead>\n",
       "  <tbody>\n",
       "    <tr>\n",
       "      <th>0</th>\n",
       "      <td>49337</td>\n",
       "      <td>10261</td>\n",
       "      <td>1</td>\n",
       "      <td>37799.0</td>\n",
       "      <td>38807.0</td>\n",
       "      <td>header</td>\n",
       "    </tr>\n",
       "    <tr>\n",
       "      <th>1</th>\n",
       "      <td>49337</td>\n",
       "      <td>10260</td>\n",
       "      <td>2</td>\n",
       "      <td>24148.0</td>\n",
       "      <td>24154.0</td>\n",
       "      <td>shot</td>\n",
       "    </tr>\n",
       "    <tr>\n",
       "      <th>2</th>\n",
       "      <td>38136</td>\n",
       "      <td>9825</td>\n",
       "      <td>1</td>\n",
       "      <td>26181.0</td>\n",
       "      <td>39297.0</td>\n",
       "      <td>shot</td>\n",
       "    </tr>\n",
       "    <tr>\n",
       "      <th>3</th>\n",
       "      <td>43276</td>\n",
       "      <td>8650</td>\n",
       "      <td>1</td>\n",
       "      <td>30853.0</td>\n",
       "      <td>30889.0</td>\n",
       "      <td>distance</td>\n",
       "    </tr>\n",
       "    <tr>\n",
       "      <th>4</th>\n",
       "      <td>40671</td>\n",
       "      <td>8654</td>\n",
       "      <td>1</td>\n",
       "      <td>23139.0</td>\n",
       "      <td>36394.0</td>\n",
       "      <td>shot</td>\n",
       "    </tr>\n",
       "  </tbody>\n",
       "</table>\n",
       "</div>"
      ]
     },
     "execution_count": 2,
     "metadata": {},
     "output_type": "execute_result"
    }
   ],
   "execution_count": 2
  },
  {
   "metadata": {
    "ExecuteTime": {
     "end_time": "2025-02-09T13:34:59.860919Z",
     "start_time": "2025-02-09T13:34:59.856489Z"
    }
   },
   "cell_type": "code",
   "source": "goals.shape",
   "id": "cb559411df0d1a53",
   "outputs": [
    {
     "data": {
      "text/plain": [
       "(7561, 6)"
      ]
     },
     "execution_count": 3,
     "metadata": {},
     "output_type": "execute_result"
    }
   ],
   "execution_count": 3
  },
  {
   "metadata": {
    "ExecuteTime": {
     "end_time": "2025-02-09T13:35:00.946478Z",
     "start_time": "2025-02-09T13:35:00.939582Z"
    }
   },
   "cell_type": "code",
   "source": "goals = goals.dropna()",
   "id": "64cd3579581de1f4",
   "outputs": [],
   "execution_count": 4
  },
  {
   "metadata": {
    "ExecuteTime": {
     "end_time": "2025-02-09T13:35:02.228334Z",
     "start_time": "2025-02-09T13:35:02.222825Z"
    }
   },
   "cell_type": "code",
   "source": "ids = pd.read_csv('matches2014_2015_id.csv')",
   "id": "a7a4e44332626ba9",
   "outputs": [],
   "execution_count": 5
  },
  {
   "metadata": {
    "ExecuteTime": {
     "end_time": "2025-02-09T13:35:03.285409Z",
     "start_time": "2025-02-09T13:35:03.278010Z"
    }
   },
   "cell_type": "code",
   "source": "goals = goals[goals[\"match_id\"].isin(ids[\"match_id\"])]\n",
   "id": "7a71775991494460",
   "outputs": [],
   "execution_count": 6
  },
  {
   "metadata": {
    "ExecuteTime": {
     "end_time": "2025-02-09T13:35:05.273620Z",
     "start_time": "2025-02-09T13:35:05.268975Z"
    }
   },
   "cell_type": "code",
   "source": "goals[\"player1_id\"] = goals[\"player1_id\"].astype(int)",
   "id": "220275c1460863da",
   "outputs": [],
   "execution_count": 7
  },
  {
   "metadata": {
    "ExecuteTime": {
     "end_time": "2025-02-09T13:35:06.759026Z",
     "start_time": "2025-02-09T13:35:06.754311Z"
    }
   },
   "cell_type": "code",
   "source": "goals[\"player2_id\"] = goals[\"player2_id\"].astype(int)",
   "id": "6c63e09255313786",
   "outputs": [],
   "execution_count": 8
  },
  {
   "metadata": {
    "ExecuteTime": {
     "end_time": "2025-02-09T13:35:08.496936Z",
     "start_time": "2025-02-09T13:35:08.491699Z"
    }
   },
   "cell_type": "code",
   "source": "goals.shape",
   "id": "b0e1447bdb4c05d2",
   "outputs": [
    {
     "data": {
      "text/plain": [
       "(665, 6)"
      ]
     },
     "execution_count": 9,
     "metadata": {},
     "output_type": "execute_result"
    }
   ],
   "execution_count": 9
  },
  {
   "metadata": {
    "ExecuteTime": {
     "end_time": "2025-02-09T13:35:10.416278Z",
     "start_time": "2025-02-09T13:35:10.401466Z"
    }
   },
   "cell_type": "code",
   "source": "goals.rename(columns={'player1_id': 'scorer_id', 'player2_id': 'assistant_id'})",
   "id": "e547464fef9c79e3",
   "outputs": [
    {
     "data": {
      "text/plain": [
       "      match_id  team_id  goal_number  scorer_id  assistant_id goal_type\n",
       "6540     41101     9826            1      26777         35345    header\n",
       "6541     41101     9825            4      46539         50047    header\n",
       "6543     43485     8191            1      37240         24372      shot\n",
       "6545     43485     8455            7     178812         30613    tap_in\n",
       "6546     43485     8455           10      31306         30613    tap_in\n",
       "...        ...      ...          ...        ...           ...       ...\n",
       "7553     40230    10261            7     479020        199834    header\n",
       "7556     45930     8659            7      25666         23257    header\n",
       "7558     59737     8654            1      41232        195927    tap_in\n",
       "7559     59737     8654            4     192899        155782    header\n",
       "7560     59737     8456            7      37459         33991      shot\n",
       "\n",
       "[665 rows x 6 columns]"
      ],
      "text/html": [
       "<div>\n",
       "<style scoped>\n",
       "    .dataframe tbody tr th:only-of-type {\n",
       "        vertical-align: middle;\n",
       "    }\n",
       "\n",
       "    .dataframe tbody tr th {\n",
       "        vertical-align: top;\n",
       "    }\n",
       "\n",
       "    .dataframe thead th {\n",
       "        text-align: right;\n",
       "    }\n",
       "</style>\n",
       "<table border=\"1\" class=\"dataframe\">\n",
       "  <thead>\n",
       "    <tr style=\"text-align: right;\">\n",
       "      <th></th>\n",
       "      <th>match_id</th>\n",
       "      <th>team_id</th>\n",
       "      <th>goal_number</th>\n",
       "      <th>scorer_id</th>\n",
       "      <th>assistant_id</th>\n",
       "      <th>goal_type</th>\n",
       "    </tr>\n",
       "  </thead>\n",
       "  <tbody>\n",
       "    <tr>\n",
       "      <th>6540</th>\n",
       "      <td>41101</td>\n",
       "      <td>9826</td>\n",
       "      <td>1</td>\n",
       "      <td>26777</td>\n",
       "      <td>35345</td>\n",
       "      <td>header</td>\n",
       "    </tr>\n",
       "    <tr>\n",
       "      <th>6541</th>\n",
       "      <td>41101</td>\n",
       "      <td>9825</td>\n",
       "      <td>4</td>\n",
       "      <td>46539</td>\n",
       "      <td>50047</td>\n",
       "      <td>header</td>\n",
       "    </tr>\n",
       "    <tr>\n",
       "      <th>6543</th>\n",
       "      <td>43485</td>\n",
       "      <td>8191</td>\n",
       "      <td>1</td>\n",
       "      <td>37240</td>\n",
       "      <td>24372</td>\n",
       "      <td>shot</td>\n",
       "    </tr>\n",
       "    <tr>\n",
       "      <th>6545</th>\n",
       "      <td>43485</td>\n",
       "      <td>8455</td>\n",
       "      <td>7</td>\n",
       "      <td>178812</td>\n",
       "      <td>30613</td>\n",
       "      <td>tap_in</td>\n",
       "    </tr>\n",
       "    <tr>\n",
       "      <th>6546</th>\n",
       "      <td>43485</td>\n",
       "      <td>8455</td>\n",
       "      <td>10</td>\n",
       "      <td>31306</td>\n",
       "      <td>30613</td>\n",
       "      <td>tap_in</td>\n",
       "    </tr>\n",
       "    <tr>\n",
       "      <th>...</th>\n",
       "      <td>...</td>\n",
       "      <td>...</td>\n",
       "      <td>...</td>\n",
       "      <td>...</td>\n",
       "      <td>...</td>\n",
       "      <td>...</td>\n",
       "    </tr>\n",
       "    <tr>\n",
       "      <th>7553</th>\n",
       "      <td>40230</td>\n",
       "      <td>10261</td>\n",
       "      <td>7</td>\n",
       "      <td>479020</td>\n",
       "      <td>199834</td>\n",
       "      <td>header</td>\n",
       "    </tr>\n",
       "    <tr>\n",
       "      <th>7556</th>\n",
       "      <td>45930</td>\n",
       "      <td>8659</td>\n",
       "      <td>7</td>\n",
       "      <td>25666</td>\n",
       "      <td>23257</td>\n",
       "      <td>header</td>\n",
       "    </tr>\n",
       "    <tr>\n",
       "      <th>7558</th>\n",
       "      <td>59737</td>\n",
       "      <td>8654</td>\n",
       "      <td>1</td>\n",
       "      <td>41232</td>\n",
       "      <td>195927</td>\n",
       "      <td>tap_in</td>\n",
       "    </tr>\n",
       "    <tr>\n",
       "      <th>7559</th>\n",
       "      <td>59737</td>\n",
       "      <td>8654</td>\n",
       "      <td>4</td>\n",
       "      <td>192899</td>\n",
       "      <td>155782</td>\n",
       "      <td>header</td>\n",
       "    </tr>\n",
       "    <tr>\n",
       "      <th>7560</th>\n",
       "      <td>59737</td>\n",
       "      <td>8456</td>\n",
       "      <td>7</td>\n",
       "      <td>37459</td>\n",
       "      <td>33991</td>\n",
       "      <td>shot</td>\n",
       "    </tr>\n",
       "  </tbody>\n",
       "</table>\n",
       "<p>665 rows × 6 columns</p>\n",
       "</div>"
      ]
     },
     "execution_count": 10,
     "metadata": {},
     "output_type": "execute_result"
    }
   ],
   "execution_count": 10
  },
  {
   "metadata": {
    "ExecuteTime": {
     "end_time": "2025-02-09T13:35:23.651797Z",
     "start_time": "2025-02-09T13:35:23.644782Z"
    }
   },
   "cell_type": "code",
   "source": "goals.to_csv('cleaned_goals.csv', index=False)",
   "id": "6f4a388b5b77cb54",
   "outputs": [],
   "execution_count": 11
  }
 ],
 "metadata": {
  "kernelspec": {
   "display_name": "Python 3",
   "language": "python",
   "name": "python3"
  },
  "language_info": {
   "codemirror_mode": {
    "name": "ipython",
    "version": 2
   },
   "file_extension": ".py",
   "mimetype": "text/x-python",
   "name": "python",
   "nbconvert_exporter": "python",
   "pygments_lexer": "ipython2",
   "version": "2.7.6"
  }
 },
 "nbformat": 4,
 "nbformat_minor": 5
}
