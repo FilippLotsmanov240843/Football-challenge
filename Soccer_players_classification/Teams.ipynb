{
 "cells": [
  {
   "cell_type": "code",
   "id": "initial_id",
   "metadata": {
    "collapsed": true,
    "jupyter": {
     "outputs_hidden": true
    },
    "ExecuteTime": {
     "end_time": "2025-02-09T13:19:04.303465Z",
     "start_time": "2025-02-09T13:19:04.298630Z"
    }
   },
   "source": [
    "import pandas as pd\n",
    "import numpy as np\n",
    "import seaborn as sns\n",
    "import matplotlib as plt"
   ],
   "outputs": [],
   "execution_count": 1
  },
  {
   "cell_type": "code",
   "id": "160cdd3c08f3df40",
   "metadata": {
    "ExecuteTime": {
     "end_time": "2025-02-09T13:19:21.277545Z",
     "start_time": "2025-02-09T13:19:21.227468Z"
    }
   },
   "source": [
    "Teams = pd.read_csv('epl_teams.csv')\n",
    "Teams.head()"
   ],
   "outputs": [
    {
     "data": {
      "text/plain": [
       "   team_id            date  buildUpPlaySpeed buildUpPlaySpeedClass  \\\n",
       "0     9825  2/22/2010 0:00                66              Balanced   \n",
       "1     9825  2/22/2011 0:00                75                  Fast   \n",
       "2     9825  2/22/2012 0:00                25                  Slow   \n",
       "3     9825  9/20/2013 0:00                30                  Slow   \n",
       "4     9825  9/19/2014 0:00                59              Balanced   \n",
       "\n",
       "   buildUpPlayDribbling buildUpPlayDribblingClass  buildUpPlayPassing  \\\n",
       "0                   NaN                    Little                  30   \n",
       "1                   NaN                    Little                  40   \n",
       "2                   NaN                    Little                  32   \n",
       "3                   NaN                    Little                  29   \n",
       "4                  51.0                    Normal                  26   \n",
       "\n",
       "  buildUpPlayPassingClass buildUpPlayPositioningClass  chanceCreationPassing  \\\n",
       "0                   Short                   Free Form                     30   \n",
       "1                   Mixed                   Free Form                     40   \n",
       "2                   Short                   Organised                     41   \n",
       "3                   Short                   Organised                     41   \n",
       "4                   Short                   Organised                     28   \n",
       "\n",
       "   ... chanceCreationShooting  chanceCreationShootingClass  \\\n",
       "0  ...                     35                       Normal   \n",
       "1  ...                     65                       Normal   \n",
       "2  ...                     30                       Little   \n",
       "3  ...                     39                       Normal   \n",
       "4  ...                     64                       Normal   \n",
       "\n",
       "  chanceCreationPositioningClass  defencePressure defencePressureClass  \\\n",
       "0                      Free Form               30                 Deep   \n",
       "1                      Free Form               50               Medium   \n",
       "2                      Free Form               57               Medium   \n",
       "3                      Free Form               64               Medium   \n",
       "4                      Free Form               51               Medium   \n",
       "\n",
       "  defenceAggression  defenceAggressionClass defenceTeamWidth  \\\n",
       "0                40                   Press               50   \n",
       "1                40                   Press               45   \n",
       "2                57                   Press               52   \n",
       "3                54                   Press               52   \n",
       "4                44                   Press               52   \n",
       "\n",
       "   defenceTeamWidthClass defenceDefenderLineClass  \n",
       "0                 Normal                    Cover  \n",
       "1                 Normal                    Cover  \n",
       "2                 Normal                    Cover  \n",
       "3                 Normal                    Cover  \n",
       "4                 Normal                    Cover  \n",
       "\n",
       "[5 rows x 23 columns]"
      ],
      "text/html": [
       "<div>\n",
       "<style scoped>\n",
       "    .dataframe tbody tr th:only-of-type {\n",
       "        vertical-align: middle;\n",
       "    }\n",
       "\n",
       "    .dataframe tbody tr th {\n",
       "        vertical-align: top;\n",
       "    }\n",
       "\n",
       "    .dataframe thead th {\n",
       "        text-align: right;\n",
       "    }\n",
       "</style>\n",
       "<table border=\"1\" class=\"dataframe\">\n",
       "  <thead>\n",
       "    <tr style=\"text-align: right;\">\n",
       "      <th></th>\n",
       "      <th>team_id</th>\n",
       "      <th>date</th>\n",
       "      <th>buildUpPlaySpeed</th>\n",
       "      <th>buildUpPlaySpeedClass</th>\n",
       "      <th>buildUpPlayDribbling</th>\n",
       "      <th>buildUpPlayDribblingClass</th>\n",
       "      <th>buildUpPlayPassing</th>\n",
       "      <th>buildUpPlayPassingClass</th>\n",
       "      <th>buildUpPlayPositioningClass</th>\n",
       "      <th>chanceCreationPassing</th>\n",
       "      <th>...</th>\n",
       "      <th>chanceCreationShooting</th>\n",
       "      <th>chanceCreationShootingClass</th>\n",
       "      <th>chanceCreationPositioningClass</th>\n",
       "      <th>defencePressure</th>\n",
       "      <th>defencePressureClass</th>\n",
       "      <th>defenceAggression</th>\n",
       "      <th>defenceAggressionClass</th>\n",
       "      <th>defenceTeamWidth</th>\n",
       "      <th>defenceTeamWidthClass</th>\n",
       "      <th>defenceDefenderLineClass</th>\n",
       "    </tr>\n",
       "  </thead>\n",
       "  <tbody>\n",
       "    <tr>\n",
       "      <th>0</th>\n",
       "      <td>9825</td>\n",
       "      <td>2/22/2010 0:00</td>\n",
       "      <td>66</td>\n",
       "      <td>Balanced</td>\n",
       "      <td>NaN</td>\n",
       "      <td>Little</td>\n",
       "      <td>30</td>\n",
       "      <td>Short</td>\n",
       "      <td>Free Form</td>\n",
       "      <td>30</td>\n",
       "      <td>...</td>\n",
       "      <td>35</td>\n",
       "      <td>Normal</td>\n",
       "      <td>Free Form</td>\n",
       "      <td>30</td>\n",
       "      <td>Deep</td>\n",
       "      <td>40</td>\n",
       "      <td>Press</td>\n",
       "      <td>50</td>\n",
       "      <td>Normal</td>\n",
       "      <td>Cover</td>\n",
       "    </tr>\n",
       "    <tr>\n",
       "      <th>1</th>\n",
       "      <td>9825</td>\n",
       "      <td>2/22/2011 0:00</td>\n",
       "      <td>75</td>\n",
       "      <td>Fast</td>\n",
       "      <td>NaN</td>\n",
       "      <td>Little</td>\n",
       "      <td>40</td>\n",
       "      <td>Mixed</td>\n",
       "      <td>Free Form</td>\n",
       "      <td>40</td>\n",
       "      <td>...</td>\n",
       "      <td>65</td>\n",
       "      <td>Normal</td>\n",
       "      <td>Free Form</td>\n",
       "      <td>50</td>\n",
       "      <td>Medium</td>\n",
       "      <td>40</td>\n",
       "      <td>Press</td>\n",
       "      <td>45</td>\n",
       "      <td>Normal</td>\n",
       "      <td>Cover</td>\n",
       "    </tr>\n",
       "    <tr>\n",
       "      <th>2</th>\n",
       "      <td>9825</td>\n",
       "      <td>2/22/2012 0:00</td>\n",
       "      <td>25</td>\n",
       "      <td>Slow</td>\n",
       "      <td>NaN</td>\n",
       "      <td>Little</td>\n",
       "      <td>32</td>\n",
       "      <td>Short</td>\n",
       "      <td>Organised</td>\n",
       "      <td>41</td>\n",
       "      <td>...</td>\n",
       "      <td>30</td>\n",
       "      <td>Little</td>\n",
       "      <td>Free Form</td>\n",
       "      <td>57</td>\n",
       "      <td>Medium</td>\n",
       "      <td>57</td>\n",
       "      <td>Press</td>\n",
       "      <td>52</td>\n",
       "      <td>Normal</td>\n",
       "      <td>Cover</td>\n",
       "    </tr>\n",
       "    <tr>\n",
       "      <th>3</th>\n",
       "      <td>9825</td>\n",
       "      <td>9/20/2013 0:00</td>\n",
       "      <td>30</td>\n",
       "      <td>Slow</td>\n",
       "      <td>NaN</td>\n",
       "      <td>Little</td>\n",
       "      <td>29</td>\n",
       "      <td>Short</td>\n",
       "      <td>Organised</td>\n",
       "      <td>41</td>\n",
       "      <td>...</td>\n",
       "      <td>39</td>\n",
       "      <td>Normal</td>\n",
       "      <td>Free Form</td>\n",
       "      <td>64</td>\n",
       "      <td>Medium</td>\n",
       "      <td>54</td>\n",
       "      <td>Press</td>\n",
       "      <td>52</td>\n",
       "      <td>Normal</td>\n",
       "      <td>Cover</td>\n",
       "    </tr>\n",
       "    <tr>\n",
       "      <th>4</th>\n",
       "      <td>9825</td>\n",
       "      <td>9/19/2014 0:00</td>\n",
       "      <td>59</td>\n",
       "      <td>Balanced</td>\n",
       "      <td>51.0</td>\n",
       "      <td>Normal</td>\n",
       "      <td>26</td>\n",
       "      <td>Short</td>\n",
       "      <td>Organised</td>\n",
       "      <td>28</td>\n",
       "      <td>...</td>\n",
       "      <td>64</td>\n",
       "      <td>Normal</td>\n",
       "      <td>Free Form</td>\n",
       "      <td>51</td>\n",
       "      <td>Medium</td>\n",
       "      <td>44</td>\n",
       "      <td>Press</td>\n",
       "      <td>52</td>\n",
       "      <td>Normal</td>\n",
       "      <td>Cover</td>\n",
       "    </tr>\n",
       "  </tbody>\n",
       "</table>\n",
       "<p>5 rows × 23 columns</p>\n",
       "</div>"
      ]
     },
     "execution_count": 2,
     "metadata": {},
     "output_type": "execute_result"
    }
   ],
   "execution_count": 2
  },
  {
   "metadata": {},
   "cell_type": "code",
   "outputs": [],
   "execution_count": null,
   "source": "",
   "id": "8274e7959b6974e0"
  },
  {
   "cell_type": "code",
   "id": "28aa76e2c919eef8",
   "metadata": {
    "ExecuteTime": {
     "end_time": "2025-02-09T13:19:23.878692Z",
     "start_time": "2025-02-09T13:19:23.866614Z"
    }
   },
   "source": "len(Teams[\"team_id\"].unique())",
   "outputs": [
    {
     "data": {
      "text/plain": [
       "34"
      ]
     },
     "execution_count": 3,
     "metadata": {},
     "output_type": "execute_result"
    }
   ],
   "execution_count": 3
  },
  {
   "metadata": {
    "ExecuteTime": {
     "end_time": "2025-02-09T13:20:22.027314Z",
     "start_time": "2025-02-09T13:20:22.014867Z"
    }
   },
   "cell_type": "code",
   "source": [
    "for col in Teams.columns:\n",
    "    print(f\"{col} has the following amount of missing values: {Teams[col].isnull().any()}\")"
   ],
   "id": "76da16792d9deaef",
   "outputs": [
    {
     "name": "stdout",
     "output_type": "stream",
     "text": [
      "team_id has the following amount of missing values: False\n",
      "date has the following amount of missing values: False\n",
      "buildUpPlaySpeed has the following amount of missing values: False\n",
      "buildUpPlaySpeedClass has the following amount of missing values: False\n",
      "buildUpPlayDribbling has the following amount of missing values: True\n",
      "buildUpPlayDribblingClass has the following amount of missing values: False\n",
      "buildUpPlayPassing has the following amount of missing values: False\n",
      "buildUpPlayPassingClass has the following amount of missing values: False\n",
      "buildUpPlayPositioningClass has the following amount of missing values: False\n",
      "chanceCreationPassing has the following amount of missing values: False\n",
      "chanceCreationPassingClass has the following amount of missing values: False\n",
      "chanceCreationCrossing has the following amount of missing values: False\n",
      "chanceCreationCrossingClass has the following amount of missing values: False\n",
      "chanceCreationShooting has the following amount of missing values: False\n",
      "chanceCreationShootingClass has the following amount of missing values: False\n",
      "chanceCreationPositioningClass has the following amount of missing values: False\n",
      "defencePressure has the following amount of missing values: False\n",
      "defencePressureClass has the following amount of missing values: False\n",
      "defenceAggression has the following amount of missing values: False\n",
      "defenceAggressionClass has the following amount of missing values: False\n",
      "defenceTeamWidth has the following amount of missing values: False\n",
      "defenceTeamWidthClass has the following amount of missing values: False\n",
      "defenceDefenderLineClass has the following amount of missing values: False\n"
     ]
    }
   ],
   "execution_count": 7
  },
  {
   "metadata": {
    "ExecuteTime": {
     "end_time": "2025-02-09T13:21:06.148223Z",
     "start_time": "2025-02-09T13:21:06.136289Z"
    }
   },
   "cell_type": "code",
   "source": "Teams['buildUpPlayDribbling'].isnull().sum()",
   "id": "3806b958560cbc19",
   "outputs": [
    {
     "data": {
      "text/plain": [
       "np.int64(136)"
      ]
     },
     "execution_count": 8,
     "metadata": {},
     "output_type": "execute_result"
    }
   ],
   "execution_count": 8
  },
  {
   "metadata": {
    "ExecuteTime": {
     "end_time": "2025-02-09T13:21:20.258921Z",
     "start_time": "2025-02-09T13:21:20.250014Z"
    }
   },
   "cell_type": "code",
   "source": "Teams.shape",
   "id": "13cd30476fc6f254",
   "outputs": [
    {
     "data": {
      "text/plain": [
       "(204, 23)"
      ]
     },
     "execution_count": 9,
     "metadata": {},
     "output_type": "execute_result"
    }
   ],
   "execution_count": 9
  },
  {
   "metadata": {},
   "cell_type": "code",
   "outputs": [],
   "execution_count": null,
   "source": "",
   "id": "c80fd4a28c96659c"
  },
  {
   "metadata": {},
   "cell_type": "code",
   "outputs": [],
   "execution_count": null,
   "source": [
    "Teams[\"date\"] = pd.to_datetime(Teams[\"date\"], errors='coerce')\n",
    "Teams = Teams[\"date\"]"
   ],
   "id": "e0d97349d2eee1db"
  }
 ],
 "metadata": {
  "kernelspec": {
   "display_name": "Python 3 (ipykernel)",
   "language": "python",
   "name": "python3"
  },
  "language_info": {
   "codemirror_mode": {
    "name": "ipython",
    "version": 3
   },
   "file_extension": ".py",
   "mimetype": "text/x-python",
   "name": "python",
   "nbconvert_exporter": "python",
   "pygments_lexer": "ipython3",
   "version": "3.13.1"
  }
 },
 "nbformat": 4,
 "nbformat_minor": 5
}
